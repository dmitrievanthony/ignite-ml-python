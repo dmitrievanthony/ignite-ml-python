{
 "cells": [
  {
   "cell_type": "code",
   "execution_count": 1,
   "metadata": {},
   "outputs": [],
   "source": [
    "import pj\n",
    "\n",
    "from pj.java.lang import System\n",
    "from pj.org.apache.ignite import Ignition\n",
    "from pj.org.apache.ignite.ml.regressions.linear import LinearRegressionLSQRTrainer\n",
    "from pj.org.apache.ignite.ml.util import SandboxMLCache\n",
    "from pj.org.apache.ignite.ml.util import MLSandboxDatasets\n",
    "from pj.org.apache.ignite.cache.query import ScanQuery"
   ]
  },
  {
   "cell_type": "code",
   "execution_count": 2,
   "metadata": {},
   "outputs": [],
   "source": [
    "ignite = Ignition.start(\"examples/config/example-ignite.xml\")"
   ]
  },
  {
   "cell_type": "code",
   "execution_count": 3,
   "metadata": {
    "collapsed": true
   },
   "outputs": [],
   "source": [
    "dataCache = SandboxMLCache(ignite).fillCacheWith(MLSandboxDatasets.MORTALITY_DATA)"
   ]
  },
  {
   "cell_type": "code",
   "execution_count": 4,
   "metadata": {
    "collapsed": true
   },
   "outputs": [],
   "source": [
    "trainer = LinearRegressionLSQRTrainer()"
   ]
  },
  {
   "cell_type": "code",
   "execution_count": 5,
   "metadata": {
    "scrolled": true
   },
   "outputs": [],
   "source": [
    "mdl = trainer.fit(\n",
    "    ignite,\n",
    "    dataCache,\n",
    "    pj.IgniteBiFunction(lambda k, v: v.copyOfRange(1, v.size())),\n",
    "    pj.IgniteBiFunction(lambda k, v: v.get(0))\n",
    ")"
   ]
  },
  {
   "cell_type": "code",
   "execution_count": 13,
   "metadata": {},
   "outputs": [
    {
     "name": "stdout",
     "output_type": "stream",
     "text": [
      "Prediction\tGround Truth\n",
      "8.972027\t8.000000\n",
      "7.406281\t8.500000\n",
      "10.204736\t11.600000\n",
      "8.969487\t5.000000\n",
      "9.500673\t9.400000\n",
      "10.009360\t12.800000\n",
      "8.785975\t9.300000\n",
      "8.700588\t8.300000\n",
      "9.862588\t8.100000\n",
      "9.507752\t9.800000\n"
     ]
    }
   ],
   "source": [
    "cursor = dataCache.query(ScanQuery())\n",
    "iterator = cursor.iterator()\n",
    "\n",
    "print(\"Prediction\\tGround Truth\")\n",
    "\n",
    "for i in range(10):\n",
    "    row = iterator.next()\n",
    "    val = row.getValue()\n",
    "    features = val.copyOfRange(1, val.size())\n",
    "    groundTruth = val.get(0)\n",
    "    prediction = mdl.predict(features)\n",
    "    print(\"%f\\t%f\" % (prediction, groundTruth))"
   ]
  },
  {
   "cell_type": "code",
   "execution_count": null,
   "metadata": {
    "collapsed": true
   },
   "outputs": [],
   "source": []
  }
 ],
 "metadata": {
  "kernelspec": {
   "display_name": "Python 3",
   "language": "python",
   "name": "python3"
  },
  "language_info": {
   "codemirror_mode": {
    "name": "ipython",
    "version": 3
   },
   "file_extension": ".py",
   "mimetype": "text/x-python",
   "name": "python",
   "nbconvert_exporter": "python",
   "pygments_lexer": "ipython3",
   "version": "3.6.3"
  }
 },
 "nbformat": 4,
 "nbformat_minor": 2
}
